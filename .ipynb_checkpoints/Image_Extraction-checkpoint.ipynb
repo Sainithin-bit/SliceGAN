{
 "cells": [
  {
   "cell_type": "code",
   "execution_count": 1,
   "id": "aadf4c7b",
   "metadata": {},
   "outputs": [],
   "source": [
    "from PIL import Image"
   ]
  },
  {
   "cell_type": "code",
   "execution_count": 53,
   "id": "89659318",
   "metadata": {},
   "outputs": [
    {
     "name": "stdout",
     "output_type": "stream",
     "text": [
      "1920 1440\n"
     ]
    }
   ],
   "source": [
    "im=Image.open('17AR-1_1_.tif')\n",
    "width, height=im.size\n",
    "print(width, height)\n",
    "im=im.crop((600, 0, 1500, 740))\n",
    "im=im.convert(\"RGB\")\n",
    "im.save('17_Modiefied_4.jpg', 'JPEG', quality=100)"
   ]
  }
 ],
 "metadata": {
  "kernelspec": {
   "display_name": "Python 3 (ipykernel)",
   "language": "python",
   "name": "python3"
  },
  "language_info": {
   "codemirror_mode": {
    "name": "ipython",
    "version": 3
   },
   "file_extension": ".py",
   "mimetype": "text/x-python",
   "name": "python",
   "nbconvert_exporter": "python",
   "pygments_lexer": "ipython3",
   "version": "3.10.6"
  }
 },
 "nbformat": 4,
 "nbformat_minor": 5
}
